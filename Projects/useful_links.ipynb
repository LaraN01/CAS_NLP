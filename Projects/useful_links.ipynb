{
 "cells": [
  {
   "cell_type": "markdown",
   "id": "cfb37c25",
   "metadata": {},
   "source": [
    "**useful links**:\n",
    "\n",
    "https://gutenberg.org/  : for book in txt format\n",
    "\n"
   ]
  },
  {
   "cell_type": "markdown",
   "id": "4f95e738",
   "metadata": {},
   "source": []
  }
 ],
 "metadata": {
  "language_info": {
   "name": "python"
  }
 },
 "nbformat": 4,
 "nbformat_minor": 5
}
