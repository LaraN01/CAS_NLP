{
  "cells": [
    {
      "cell_type": "markdown",
      "id": "cd6d3969",
      "metadata": {
        "id": "cd6d3969"
      },
      "source": [
        "\n",
        "# Word Representations in NLP\n",
        "\n",
        "We'll have a look at the most important concepts in chronological order\n",
        "\n",
        "1. **Bag of Words (BoW)** (statistical)\n",
        "2. **TF–IDF** (statistical)\n",
        "3. **N-grams** (statistical)\n",
        "4. **Latent Semantic Analysis (LSA)** (statistical)\n",
        "5. **Word2Vec** (simple neural network)\n",
        "6. **GloVe** (simple neural network)\n",
        "7. **ELMo** (LSTM)\n",
        "8. **BERT**(transformer)\n",
        "\n"
      ]
    },
    {
      "cell_type": "markdown",
      "id": "088692bf",
      "metadata": {
        "id": "088692bf"
      },
      "source": [
        "\n",
        "## A. Setup & Imports"
      ]
    },
    {
      "cell_type": "code",
      "source": [
        "# installs\n",
        "%%capture\n",
        "!pip install gensim\n",
        "!pip install flair\n",
        "!pip install numpy==1.24.3"
      ],
      "metadata": {
        "id": "gt7892R_3Vw4"
      },
      "id": "gt7892R_3Vw4",
      "execution_count": 1,
      "outputs": []
    },
    {
      "cell_type": "code",
      "source": [
        "# imports\n",
        "import math\n",
        "import random\n",
        "import itertools\n",
        "import collections\n",
        "import requests\n",
        "import re\n",
        "import nltk\n",
        "from gensim.models import Word2Vec\n",
        "\n",
        "\n",
        "# numerics and plotting\n",
        "import numpy as np\n",
        "import matplotlib.pyplot as plt\n",
        "\n",
        "# sklearn stuff\n",
        "from sklearn.feature_extraction.text import CountVectorizer, TfidfVectorizer\n",
        "from sklearn.decomposition import TruncatedSVD\n",
        "from sklearn.preprocessing import normalize\n",
        "from sklearn.metrics.pairwise import cosine_similarity\n",
        "from sklearn.decomposition import PCA\n",
        "\n",
        "# gensim\n",
        "import gensim.downloader as api\n",
        "from gensim.models import KeyedVectors\n",
        "from gensim.scripts.glove2word2vec import glove2word2vec\n",
        "glove_pre = api.load(\"glove-wiki-gigaword-100\")\n",
        "\n",
        "\n",
        "# random seed for reproducibility\n",
        "random.seed(42)\n",
        "np.random.seed(42)\n",
        "\n",
        "# matplotlib defaults\n",
        "plt.rcParams.update({\n",
        "    \"figure.figsize\": (7, 5),\n",
        "    \"axes.grid\": True\n",
        "})\n",
        "\n",
        "nltk.download(\"punkt\")"
      ],
      "metadata": {
        "colab": {
          "base_uri": "https://localhost:8080/",
          "height": 530
        },
        "id": "jTLlPLzkABeC",
        "outputId": "28566faf-ddbd-46ea-96e4-0bce44d0aa8c"
      },
      "id": "jTLlPLzkABeC",
      "execution_count": 4,
      "outputs": [
        {
          "output_type": "error",
          "ename": "ModuleNotFoundError",
          "evalue": "No module named 'numpy.strings'",
          "traceback": [
            "\u001b[0;31m---------------------------------------------------------------------------\u001b[0m",
            "\u001b[0;31mModuleNotFoundError\u001b[0m                       Traceback (most recent call last)",
            "\u001b[0;32m/tmp/ipython-input-1584132034.py\u001b[0m in \u001b[0;36m<cell line: 0>\u001b[0;34m()\u001b[0m\n\u001b[1;32m      7\u001b[0m \u001b[0;32mimport\u001b[0m \u001b[0mre\u001b[0m\u001b[0;34m\u001b[0m\u001b[0;34m\u001b[0m\u001b[0m\n\u001b[1;32m      8\u001b[0m \u001b[0;32mimport\u001b[0m \u001b[0mnltk\u001b[0m\u001b[0;34m\u001b[0m\u001b[0;34m\u001b[0m\u001b[0m\n\u001b[0;32m----> 9\u001b[0;31m \u001b[0;32mfrom\u001b[0m \u001b[0mgensim\u001b[0m\u001b[0;34m.\u001b[0m\u001b[0mmodels\u001b[0m \u001b[0;32mimport\u001b[0m \u001b[0mWord2Vec\u001b[0m\u001b[0;34m\u001b[0m\u001b[0;34m\u001b[0m\u001b[0m\n\u001b[0m\u001b[1;32m     10\u001b[0m \u001b[0;34m\u001b[0m\u001b[0m\n\u001b[1;32m     11\u001b[0m \u001b[0;34m\u001b[0m\u001b[0m\n",
            "\u001b[0;32m/usr/local/lib/python3.12/dist-packages/gensim/__init__.py\u001b[0m in \u001b[0;36m<module>\u001b[0;34m\u001b[0m\n\u001b[1;32m      9\u001b[0m \u001b[0;32mimport\u001b[0m \u001b[0mlogging\u001b[0m\u001b[0;34m\u001b[0m\u001b[0;34m\u001b[0m\u001b[0m\n\u001b[1;32m     10\u001b[0m \u001b[0;34m\u001b[0m\u001b[0m\n\u001b[0;32m---> 11\u001b[0;31m \u001b[0;32mfrom\u001b[0m \u001b[0mgensim\u001b[0m \u001b[0;32mimport\u001b[0m \u001b[0mparsing\u001b[0m\u001b[0;34m,\u001b[0m \u001b[0mcorpora\u001b[0m\u001b[0;34m,\u001b[0m \u001b[0mmatutils\u001b[0m\u001b[0;34m,\u001b[0m \u001b[0minterfaces\u001b[0m\u001b[0;34m,\u001b[0m \u001b[0mmodels\u001b[0m\u001b[0;34m,\u001b[0m \u001b[0msimilarities\u001b[0m\u001b[0;34m,\u001b[0m \u001b[0mutils\u001b[0m  \u001b[0;31m# noqa:F401\u001b[0m\u001b[0;34m\u001b[0m\u001b[0;34m\u001b[0m\u001b[0m\n\u001b[0m\u001b[1;32m     12\u001b[0m \u001b[0;34m\u001b[0m\u001b[0m\n\u001b[1;32m     13\u001b[0m \u001b[0;34m\u001b[0m\u001b[0m\n",
            "\u001b[0;32m/usr/local/lib/python3.12/dist-packages/gensim/parsing/__init__.py\u001b[0m in \u001b[0;36m<module>\u001b[0;34m\u001b[0m\n\u001b[1;32m      2\u001b[0m \u001b[0;34m\u001b[0m\u001b[0m\n\u001b[1;32m      3\u001b[0m \u001b[0;32mfrom\u001b[0m \u001b[0;34m.\u001b[0m\u001b[0mporter\u001b[0m \u001b[0;32mimport\u001b[0m \u001b[0mPorterStemmer\u001b[0m  \u001b[0;31m# noqa:F401\u001b[0m\u001b[0;34m\u001b[0m\u001b[0;34m\u001b[0m\u001b[0m\n\u001b[0;32m----> 4\u001b[0;31m from .preprocessing import (  # noqa:F401\n\u001b[0m\u001b[1;32m      5\u001b[0m     \u001b[0mpreprocess_documents\u001b[0m\u001b[0;34m,\u001b[0m\u001b[0;34m\u001b[0m\u001b[0;34m\u001b[0m\u001b[0m\n\u001b[1;32m      6\u001b[0m     \u001b[0mpreprocess_string\u001b[0m\u001b[0;34m,\u001b[0m\u001b[0;34m\u001b[0m\u001b[0;34m\u001b[0m\u001b[0m\n",
            "\u001b[0;32m/usr/local/lib/python3.12/dist-packages/gensim/parsing/preprocessing.py\u001b[0m in \u001b[0;36m<module>\u001b[0;34m\u001b[0m\n\u001b[1;32m     24\u001b[0m \u001b[0;32mimport\u001b[0m \u001b[0mglob\u001b[0m\u001b[0;34m\u001b[0m\u001b[0;34m\u001b[0m\u001b[0m\n\u001b[1;32m     25\u001b[0m \u001b[0;34m\u001b[0m\u001b[0m\n\u001b[0;32m---> 26\u001b[0;31m \u001b[0;32mfrom\u001b[0m \u001b[0mgensim\u001b[0m \u001b[0;32mimport\u001b[0m \u001b[0mutils\u001b[0m\u001b[0;34m\u001b[0m\u001b[0;34m\u001b[0m\u001b[0m\n\u001b[0m\u001b[1;32m     27\u001b[0m \u001b[0;32mfrom\u001b[0m \u001b[0mgensim\u001b[0m\u001b[0;34m.\u001b[0m\u001b[0mparsing\u001b[0m\u001b[0;34m.\u001b[0m\u001b[0mporter\u001b[0m \u001b[0;32mimport\u001b[0m \u001b[0mPorterStemmer\u001b[0m\u001b[0;34m\u001b[0m\u001b[0;34m\u001b[0m\u001b[0m\n\u001b[1;32m     28\u001b[0m \u001b[0;34m\u001b[0m\u001b[0m\n",
            "\u001b[0;32m/usr/local/lib/python3.12/dist-packages/gensim/utils.py\u001b[0m in \u001b[0;36m<module>\u001b[0;34m\u001b[0m\n\u001b[1;32m     33\u001b[0m \u001b[0;34m\u001b[0m\u001b[0m\n\u001b[1;32m     34\u001b[0m \u001b[0;32mimport\u001b[0m \u001b[0mnumpy\u001b[0m \u001b[0;32mas\u001b[0m \u001b[0mnp\u001b[0m\u001b[0;34m\u001b[0m\u001b[0;34m\u001b[0m\u001b[0m\n\u001b[0;32m---> 35\u001b[0;31m \u001b[0;32mimport\u001b[0m \u001b[0mscipy\u001b[0m\u001b[0;34m.\u001b[0m\u001b[0msparse\u001b[0m\u001b[0;34m\u001b[0m\u001b[0;34m\u001b[0m\u001b[0m\n\u001b[0m\u001b[1;32m     36\u001b[0m \u001b[0;32mfrom\u001b[0m \u001b[0msmart_open\u001b[0m \u001b[0;32mimport\u001b[0m \u001b[0mopen\u001b[0m\u001b[0;34m\u001b[0m\u001b[0;34m\u001b[0m\u001b[0m\n\u001b[1;32m     37\u001b[0m \u001b[0;34m\u001b[0m\u001b[0m\n",
            "\u001b[0;32m/usr/local/lib/python3.12/dist-packages/scipy/sparse/__init__.py\u001b[0m in \u001b[0;36m<module>\u001b[0;34m\u001b[0m\n\u001b[1;32m    292\u001b[0m \u001b[0;32mimport\u001b[0m \u001b[0mwarnings\u001b[0m \u001b[0;32mas\u001b[0m \u001b[0m_warnings\u001b[0m\u001b[0;34m\u001b[0m\u001b[0;34m\u001b[0m\u001b[0m\n\u001b[1;32m    293\u001b[0m \u001b[0;34m\u001b[0m\u001b[0m\n\u001b[0;32m--> 294\u001b[0;31m \u001b[0;32mfrom\u001b[0m \u001b[0;34m.\u001b[0m\u001b[0m_base\u001b[0m \u001b[0;32mimport\u001b[0m \u001b[0;34m*\u001b[0m\u001b[0;34m\u001b[0m\u001b[0;34m\u001b[0m\u001b[0m\n\u001b[0m\u001b[1;32m    295\u001b[0m \u001b[0;32mfrom\u001b[0m \u001b[0;34m.\u001b[0m\u001b[0m_csr\u001b[0m \u001b[0;32mimport\u001b[0m \u001b[0;34m*\u001b[0m\u001b[0;34m\u001b[0m\u001b[0;34m\u001b[0m\u001b[0m\n\u001b[1;32m    296\u001b[0m \u001b[0;32mfrom\u001b[0m \u001b[0;34m.\u001b[0m\u001b[0m_csc\u001b[0m \u001b[0;32mimport\u001b[0m \u001b[0;34m*\u001b[0m\u001b[0;34m\u001b[0m\u001b[0;34m\u001b[0m\u001b[0m\n",
            "\u001b[0;32m/usr/local/lib/python3.12/dist-packages/scipy/sparse/_base.py\u001b[0m in \u001b[0;36m<module>\u001b[0;34m\u001b[0m\n\u001b[1;32m      3\u001b[0m \u001b[0;34m\u001b[0m\u001b[0m\n\u001b[1;32m      4\u001b[0m \u001b[0;32mimport\u001b[0m \u001b[0mnumpy\u001b[0m \u001b[0;32mas\u001b[0m \u001b[0mnp\u001b[0m\u001b[0;34m\u001b[0m\u001b[0;34m\u001b[0m\u001b[0m\n\u001b[0;32m----> 5\u001b[0;31m \u001b[0;32mfrom\u001b[0m \u001b[0mscipy\u001b[0m\u001b[0;34m.\u001b[0m\u001b[0m_lib\u001b[0m\u001b[0;34m.\u001b[0m\u001b[0m_util\u001b[0m \u001b[0;32mimport\u001b[0m \u001b[0mVisibleDeprecationWarning\u001b[0m\u001b[0;34m\u001b[0m\u001b[0;34m\u001b[0m\u001b[0m\n\u001b[0m\u001b[1;32m      6\u001b[0m \u001b[0;34m\u001b[0m\u001b[0m\n\u001b[1;32m      7\u001b[0m from ._sputils import (asmatrix, check_reshape_kwargs, check_shape,\n",
            "\u001b[0;32m/usr/local/lib/python3.12/dist-packages/scipy/_lib/_util.py\u001b[0m in \u001b[0;36m<module>\u001b[0;34m\u001b[0m\n\u001b[1;32m     16\u001b[0m \u001b[0;34m\u001b[0m\u001b[0m\n\u001b[1;32m     17\u001b[0m \u001b[0;32mimport\u001b[0m \u001b[0mnumpy\u001b[0m \u001b[0;32mas\u001b[0m \u001b[0mnp\u001b[0m\u001b[0;34m\u001b[0m\u001b[0;34m\u001b[0m\u001b[0m\n\u001b[0;32m---> 18\u001b[0;31m \u001b[0;32mfrom\u001b[0m \u001b[0mscipy\u001b[0m\u001b[0;34m.\u001b[0m\u001b[0m_lib\u001b[0m\u001b[0;34m.\u001b[0m\u001b[0m_array_api\u001b[0m \u001b[0;32mimport\u001b[0m \u001b[0marray_namespace\u001b[0m\u001b[0;34m\u001b[0m\u001b[0;34m\u001b[0m\u001b[0m\n\u001b[0m\u001b[1;32m     19\u001b[0m \u001b[0;34m\u001b[0m\u001b[0m\n\u001b[1;32m     20\u001b[0m \u001b[0;34m\u001b[0m\u001b[0m\n",
            "\u001b[0;32m/usr/local/lib/python3.12/dist-packages/scipy/_lib/_array_api.py\u001b[0m in \u001b[0;36m<module>\u001b[0;34m\u001b[0m\n\u001b[1;32m     15\u001b[0m \u001b[0;34m\u001b[0m\u001b[0m\n\u001b[1;32m     16\u001b[0m \u001b[0;32mfrom\u001b[0m \u001b[0mscipy\u001b[0m\u001b[0;34m.\u001b[0m\u001b[0m_lib\u001b[0m \u001b[0;32mimport\u001b[0m \u001b[0marray_api_compat\u001b[0m\u001b[0;34m\u001b[0m\u001b[0;34m\u001b[0m\u001b[0m\n\u001b[0;32m---> 17\u001b[0;31m from scipy._lib.array_api_compat import (\n\u001b[0m\u001b[1;32m     18\u001b[0m     \u001b[0mis_array_api_obj\u001b[0m\u001b[0;34m,\u001b[0m\u001b[0;34m\u001b[0m\u001b[0;34m\u001b[0m\u001b[0m\n\u001b[1;32m     19\u001b[0m     \u001b[0msize\u001b[0m\u001b[0;34m,\u001b[0m\u001b[0;34m\u001b[0m\u001b[0;34m\u001b[0m\u001b[0m\n",
            "\u001b[0;32m/usr/local/lib/python3.12/dist-packages/scipy/_lib/array_api_compat/numpy/__init__.py\u001b[0m in \u001b[0;36m<module>\u001b[0;34m\u001b[0m\n\u001b[0;32m----> 1\u001b[0;31m \u001b[0;32mfrom\u001b[0m \u001b[0mnumpy\u001b[0m \u001b[0;32mimport\u001b[0m \u001b[0;34m*\u001b[0m\u001b[0;34m\u001b[0m\u001b[0;34m\u001b[0m\u001b[0m\n\u001b[0m\u001b[1;32m      2\u001b[0m \u001b[0;34m\u001b[0m\u001b[0m\n\u001b[1;32m      3\u001b[0m \u001b[0;31m# from numpy import * doesn't overwrite these builtin names\u001b[0m\u001b[0;34m\u001b[0m\u001b[0;34m\u001b[0m\u001b[0m\n\u001b[1;32m      4\u001b[0m \u001b[0;32mfrom\u001b[0m \u001b[0mnumpy\u001b[0m \u001b[0;32mimport\u001b[0m \u001b[0mabs\u001b[0m\u001b[0;34m,\u001b[0m \u001b[0mmax\u001b[0m\u001b[0;34m,\u001b[0m \u001b[0mmin\u001b[0m\u001b[0;34m,\u001b[0m \u001b[0mround\u001b[0m\u001b[0;34m\u001b[0m\u001b[0;34m\u001b[0m\u001b[0m\n\u001b[1;32m      5\u001b[0m \u001b[0;34m\u001b[0m\u001b[0m\n",
            "\u001b[0;32m/usr/local/lib/python3.12/dist-packages/numpy/__init__.py\u001b[0m in \u001b[0;36m__getattr__\u001b[0;34m(attr)\u001b[0m\n\u001b[1;32m    374\u001b[0m     \u001b[0m_sanity_check\u001b[0m\u001b[0;34m(\u001b[0m\u001b[0;34m)\u001b[0m\u001b[0;34m\u001b[0m\u001b[0;34m\u001b[0m\u001b[0m\n\u001b[1;32m    375\u001b[0m     \u001b[0;32mdel\u001b[0m \u001b[0m_sanity_check\u001b[0m\u001b[0;34m\u001b[0m\u001b[0;34m\u001b[0m\u001b[0m\n\u001b[0;32m--> 376\u001b[0;31m \u001b[0;34m\u001b[0m\u001b[0m\n\u001b[0m\u001b[1;32m    377\u001b[0m     \u001b[0;32mdef\u001b[0m \u001b[0m_mac_os_check\u001b[0m\u001b[0;34m(\u001b[0m\u001b[0;34m)\u001b[0m\u001b[0;34m:\u001b[0m\u001b[0;34m\u001b[0m\u001b[0;34m\u001b[0m\u001b[0m\n\u001b[1;32m    378\u001b[0m         \"\"\"\n",
            "\u001b[0;31mModuleNotFoundError\u001b[0m: No module named 'numpy.strings'",
            "",
            "\u001b[0;31m---------------------------------------------------------------------------\u001b[0;32m\nNOTE: If your import is failing due to a missing package, you can\nmanually install dependencies using either !pip or !apt.\n\nTo view examples of installing some common dependencies, click the\n\"Open Examples\" button below.\n\u001b[0;31m---------------------------------------------------------------------------\u001b[0m\n"
          ],
          "errorDetails": {
            "actions": [
              {
                "action": "open_url",
                "actionText": "Open Examples",
                "url": "/notebooks/snippets/importing_libraries.ipynb"
              }
            ]
          }
        }
      ]
    },
    {
      "cell_type": "markdown",
      "id": "dbee2fb9",
      "metadata": {
        "id": "dbee2fb9"
      },
      "source": [
        "\n",
        "## B. Small Demo Corpus\n"
      ]
    },
    {
      "cell_type": "code",
      "execution_count": null,
      "id": "a3e49c10",
      "metadata": {
        "colab": {
          "base_uri": "https://localhost:8080/"
        },
        "id": "a3e49c10",
        "outputId": "7deade95-62c3-4584-a9d3-07ad187b143e"
      },
      "outputs": [
        {
          "output_type": "stream",
          "name": "stdout",
          "text": [
            "Documents: 10\n",
            "Doc 0: John likes to watch movies and eat popcorn\n",
            "Doc 1: Mary likes movies too and enjoys film festivals\n",
            "Doc 2: Many pets like cats and dogs and play with toys\n"
          ]
        }
      ],
      "source": [
        "\n",
        "corpus = [\n",
        "    \"John likes to watch movies and eat popcorn\",\n",
        "    \"Mary likes movies too and enjoys film festivals\",\n",
        "    \"Many pets like cats and dogs and play with toys\",\n",
        "    \"Dogs and cats are common pets and loyal companions\",\n",
        "    \"He went to the bank to deposit money\",\n",
        "    \"The bank of the river was steep and rocky\",\n",
        "    \"They played football games at the stadium\",\n",
        "    \"The team enjoys playing football every weekend\",\n",
        "    \"The king and the queen live in a palace\",\n",
        "    \"The prince is the son of the king and the queen\"\n",
        "]\n",
        "\n",
        "# also keep tokenized versions for some sections\n",
        "tokenized_corpus = [doc.lower().split() for doc in corpus]\n",
        "\n",
        "print(\"Documents:\", len(corpus))\n",
        "for i, d in enumerate(corpus[:3]):\n",
        "    print(f\"Doc {i}: {d}\")\n",
        "\n",
        "tokenized_corpus2 = [doc.lower().split() for doc in corpus2]\n"
      ]
    },
    {
      "cell_type": "markdown",
      "source": [
        "## C. Bram Stoker's Dracula"
      ],
      "metadata": {
        "id": "GVnZr80CJGwL"
      },
      "id": "GVnZr80CJGwL"
    },
    {
      "cell_type": "markdown",
      "source": [
        "let's throw some \"real\" text in the mix."
      ],
      "metadata": {
        "id": "1vHnUrzrU1d_"
      },
      "id": "1vHnUrzrU1d_"
    },
    {
      "cell_type": "code",
      "source": [
        "import requests\n",
        "import re\n",
        "import nltk\n",
        "\n",
        "# Fetch Dracula from Project Gutenberg\n",
        "url = \"https://gutenberg.org/cache/epub/345/pg345.txt\"\n",
        "response = requests.get(url)\n",
        "raw_text = response.text\n",
        "\n",
        "# split into sentences\n",
        "sentences = nltk.sent_tokenize(raw_text)\n",
        "\n",
        "# clean up whitespace\n",
        "sentences = [re.sub(r\"\\s+\", \" \", s).strip() for s in sentences]\n",
        "\n",
        "# skip first 100 sentences, then take next 1000\n",
        "corpus2 = sentences[100:1100]\n",
        "\n",
        "print(f\"Total sentences extracted: {len(sentences)}\")\n",
        "print(f\"Subset size: {len(corpus2)}\")\n",
        "# print random 5 sentences for sanity check\n",
        "\n",
        "drac_sample = random.sample(corpus2, 5)\n",
        "print(\"Sample sentences from Dracula\", \"\\n\", (drac_sample))\n"
      ],
      "metadata": {
        "colab": {
          "base_uri": "https://localhost:8080/"
        },
        "id": "pdXoG7H3JCig",
        "outputId": "6db9e555-7c62-476c-8aaf-41fee0ddf63b"
      },
      "id": "pdXoG7H3JCig",
      "execution_count": null,
      "outputs": [
        {
          "output_type": "stream",
          "name": "stdout",
          "text": [
            "Total sentences extracted: 7499\n",
            "Subset size: 1000\n",
            "Sample sentences from Dracula \n",
            " ['I sat and pondered awhile, and then some thought occurred to me, and I made search of my portmanteau and in the wardrobe where I had placed my clothes.', 'I think I must have fallen asleep and kept dreaming of the incident, for it seemed to be repeated endlessly, and now looking back, it is like a sort of awful nightmare.', 'I soon lost sight and recollection of ghostly fears in the beauty of the scene as we drove along, although had I known the language, or rather languages, which my fellow-passengers were speaking, I might not have been able to throw them off so easily.', 'Then I went over every inch of the ground, so as not to lose a chance.', 'So!” We went thoroughly into the business of the purchase of the estate at Purfleet.']\n"
          ]
        }
      ]
    },
    {
      "cell_type": "markdown",
      "id": "180d7268",
      "metadata": {
        "id": "180d7268"
      },
      "source": [
        "## 1. Bag of Words (BoW)\n",
        "\n",
        "**Core idea**: represent each document as a vector of word counts; order is ignored.\n",
        "\n",
        "**Why it matters**: First practical way to feed text into M. simple, fast,  strong baselines.\n",
        "\n",
        "**Strengths**: Simple, easy to interpret; works well with linear models\n",
        "\n",
        "**Limits**: No word order, no semantics (synonyms/polysemy), very high-dimensional/sparse.\n",
        "\n",
        "**Use cases**: Quick baselines for classification/retrieval\n"
      ]
    },
    {
      "cell_type": "code",
      "execution_count": null,
      "id": "0430b7ab",
      "metadata": {
        "colab": {
          "base_uri": "https://localhost:8080/"
        },
        "id": "0430b7ab",
        "outputId": "41b10f63-3341-4f05-bbf1-5d06638a9e3e"
      },
      "outputs": [
        {
          "output_type": "stream",
          "name": "stdout",
          "text": [
            "Vocab size: 54\n",
            "First 20 vocab terms: ['and' 'are' 'at' 'bank' 'cats' 'common' 'companions' 'deposit' 'dogs'\n",
            " 'eat' 'enjoys' 'every' 'festivals' 'film' 'football' 'games' 'he' 'in'\n",
            " 'is' 'john']\n"
          ]
        }
      ],
      "source": [
        "\n",
        "# create BoW matrix\n",
        "bow_vectorizer = CountVectorizer(lowercase=True)\n",
        "X_bow = bow_vectorizer.fit_transform(corpus)\n",
        "vocab = bow_vectorizer.get_feature_names_out()\n",
        "\n",
        "print(\"Vocab size:\", len(vocab))\n",
        "print(\"First 20 vocab terms:\", vocab[:20])\n",
        "\n",
        "# convert to dense for visualization (OK on tiny corpus)\n",
        "bow_dense = X_bow.toarray()"
      ]
    },
    {
      "cell_type": "markdown",
      "id": "4d719af7",
      "metadata": {
        "id": "4d719af7"
      },
      "source": [
        "\n",
        "## 2. TF–IDF\n",
        "\n",
        "**Core idea**: Reweight BoW by term rarity: tfidf(t,d) = tf(t,d) * log(N / df(t)).\n",
        "\n",
        "**Why it matters**: Emphasizes informative words; became standard in search and text mining.\n",
        "\n",
        "**Strengths**: Robust, strong with linear models; downweights stopwords automatically.\n",
        "\n",
        "**Limit**: Still context-agnostic; synonyms remain separate; no sequence info.\n",
        "\n",
        "Use cases: ranking, topic hints, baseline classifiers.\n"
      ]
    },
    {
      "cell_type": "code",
      "execution_count": null,
      "id": "57afbfe9",
      "metadata": {
        "colab": {
          "base_uri": "https://localhost:8080/"
        },
        "id": "57afbfe9",
        "outputId": "2b09a705-bc88-483b-a029-19a3f32712a3"
      },
      "outputs": [
        {
          "output_type": "stream",
          "name": "stdout",
          "text": [
            "Doc 0 top TF–IDF terms:\n",
            "         watch : 0.395\n",
            "          john : 0.395\n",
            "           eat : 0.395\n",
            "       popcorn : 0.395\n",
            "         likes : 0.336\n",
            "Doc 1 top TF–IDF terms:\n",
            "          mary : 0.395\n",
            "     festivals : 0.395\n",
            "          film : 0.395\n",
            "           too : 0.395\n",
            "        movies : 0.336\n",
            "Doc 2 top TF–IDF terms:\n",
            "          with : 0.351\n",
            "          toys : 0.351\n",
            "          like : 0.351\n",
            "          many : 0.351\n",
            "          play : 0.351\n"
          ]
        }
      ],
      "source": [
        "\n",
        "tfidf_vectorizer = TfidfVectorizer(lowercase=True)\n",
        "X_tfidf = tfidf_vectorizer.fit_transform(corpus)\n",
        "vocab_tfidf = tfidf_vectorizer.get_feature_names_out()\n",
        "tfidf_dense = X_tfidf.toarray()\n",
        "\n",
        "\n",
        "# Show top TF–IDF terms per document\n",
        "def top_tfidf_terms(row, vocab, k=5):\n",
        "    idxs = row.argsort()[::-1][:k]\n",
        "    return [(vocab[i], float(row[i])) for i in idxs]\n",
        "\n",
        "for i, row in enumerate(tfidf_dense[:3]):\n",
        "    print(f\"Doc {i} top TF–IDF terms:\")\n",
        "    for term, wt in top_tfidf_terms(row, vocab_tfidf, 5):\n",
        "        print(f\"  {term:>12} : {wt:.3f}\")\n"
      ]
    },
    {
      "cell_type": "markdown",
      "id": "5a143e50",
      "metadata": {
        "id": "5a143e50"
      },
      "source": [
        "## 4. Latent Semantic Analysis (LSA)\n",
        "\n",
        "**Idea:** Use **SVD** on the term–document matrix (often TF–IDF) to find **latent concepts**.  \n",
        "**Why:** Groups related words/documents even if they don't share surface forms (synonymy).\n"
      ]
    },
    {
      "cell_type": "code",
      "execution_count": null,
      "id": "f04306dc",
      "metadata": {
        "colab": {
          "base_uri": "https://localhost:8080/",
          "height": 505
        },
        "id": "f04306dc",
        "outputId": "31e0da9a-8cce-4c66-9533-b943d8708432"
      },
      "outputs": [
        {
          "output_type": "display_data",
          "data": {
            "text/plain": [
              "<Figure size 700x500 with 1 Axes>"
            ],
            "image/png": "[encoded data removed]"
          },
          "metadata": {}
        },
        {
          "output_type": "stream",
          "name": "stdout",
          "text": [
            "Explained variance (2 comps): 0.20710667783489\n"
          ]
        }
      ],
      "source": [
        "\n",
        "# fit LSA with 2 components for easy plotting\n",
        "svd = TruncatedSVD(n_components=2, random_state=42)\n",
        "X_lsa = svd.fit_transform(X_tfidf)          # docs in latent space\n",
        "terms_lsa = svd.components_.T               # terms mapped to latent space\n",
        "\n",
        "# normalize term vectors for nicer spacing\n",
        "terms_lsa_norm = normalize(terms_lsa)\n",
        "\n",
        "# oick a subset of terms to label (frequent ones)\n",
        "term_freq = X_bow.toarray().sum(axis=0)\n",
        "top_term_idx = term_freq.argsort()[::-1][:40]\n",
        "labels = [vocab_tfidf[i] for i in top_term_idx]\n",
        "pts = terms_lsa_norm[top_term_idx]\n",
        "\n",
        "# scatter plot of terms in 2D\n",
        "plt.figure()\n",
        "plt.scatter(pts[:, 0], pts[:, 1])\n",
        "for (x, y), lab in zip(pts, labels):\n",
        "    plt.text(x, y, lab)\n",
        "plt.title(\"LSA: Terms in 2D Latent Semantic Space\")\n",
        "plt.xlabel(\"Component 1\")\n",
        "plt.ylabel(\"Component 2\")\n",
        "plt.show()\n",
        "\n",
        "print(\"Explained variance (2 comps):\", svd.explained_variance_ratio_.sum())"
      ]
    },
    {
      "cell_type": "markdown",
      "id": "5ded84e0",
      "metadata": {
        "id": "5ded84e0"
      },
      "source": [
        "## 4. Word2Vec\n",
        "\n",
        "**Core idea**: Train a tiny NN (CBOW/Skip-gram) to predict words from context (or vice versa); vectors are embeddings.\n",
        "\n",
        "**Why it matters**: Efficiently learned dense semantic vectors with linear analogies (e.g., king−man+woman≈queen).\n",
        "\n",
        "**Strengths**: Captures global semantics; compact; transferable; fast to train.\n",
        "\n",
        "**Limits**: Static (one vector per word); no token-level context; OOV unless handled.\n",
        "\n",
        "**Use cases**: Similarity, clustering, as features in classic/deep pipelines\n"
      ]
    },
    {
      "cell_type": "code",
      "execution_count": null,
      "id": "757d7c6f",
      "metadata": {
        "colab": {
          "base_uri": "https://localhost:8080/"
        },
        "id": "757d7c6f",
        "outputId": "fed90d94-e558-4dc2-b77b-f4c635e6f6ff"
      },
      "outputs": [
        {
          "output_type": "stream",
          "name": "stdout",
          "text": [
            "[==------------------------------------------------] 5.8% 96.3/1662.8MB downloaded"
          ]
        }
      ],
      "source": [
        "w2v = api.load('word2vec-google-news-300')\n",
        "\n",
        "    # Inspect neighbors\n",
        "probe_words = [\"journey\", \"castle\", \"coffin\", \"blood\", \"bat\", \"maiden\", \"count\"]\n",
        "for w in probe_words:\n",
        "  if w in w2v.wv:\n",
        "    print(f\"Most similar to '{w}':\", w2v.wv.most_similar(w, topn=5))\n",
        "\n",
        "    # Visualize a subset of word vectors in 2D via PCA\n",
        "    subset = [w for w in probe_words if w in w2v.wv]\n",
        "    vecs = np.array([w2v.wv[w] for w in subset])\n",
        "    pca = PCA(n_components=2, random_state=42)\n",
        "    xy = pca.fit_transform(vecs)\n",
        "\n",
        "    plt.figure()\n",
        "    plt.scatter(xy[:, 0], xy[:, 1])\n",
        "    for (x, y), lab in zip(xy, subset):\n",
        "        plt.text(x, y, lab)\n",
        "    plt.title(\"Word2Vec: PCA Projection of Selected Words\")\n",
        "    plt.xlabel(\"PC1\")\n",
        "    plt.ylabel(\"PC2\")\n",
        "    plt.show()"
      ]
    },
    {
      "cell_type": "markdown",
      "id": "0c6fbc2d",
      "metadata": {
        "id": "0c6fbc2d"
      },
      "source": [
        "\n",
        "## 6. GloVe (Global Vectors)\n"
      ]
    },
    {
      "cell_type": "code",
      "execution_count": null,
      "id": "795adf69",
      "metadata": {
        "colab": {
          "base_uri": "https://localhost:8080/"
        },
        "id": "795adf69",
        "outputId": "5b3482d8-d6cc-4b13-9050-0c4106d8adf2"
      },
      "outputs": [
        {
          "output_type": "stream",
          "name": "stdout",
          "text": [
            "Nearest to 'king': [('prince', 0.7682328820228577), ('queen', 0.7507690787315369), ('son', 0.7020888328552246), ('brother', 0.6985775232315063), ('monarch', 0.6977890729904175)]\n",
            "Nearest to 'queen': [('princess', 0.7947245240211487), ('king', 0.7507690191268921), ('elizabeth', 0.7355712056159973), ('royal', 0.7065026164054871), ('lady', 0.7044796943664551)]\n",
            "Nearest to 'cats': [('dogs', 0.7869132161140442), ('rabbits', 0.7540634870529175), ('animals', 0.7538943290710449), ('pets', 0.749773383140564), ('cat', 0.7323004007339478)]\n",
            "Nearest to 'dogs': [('dog', 0.834430992603302), ('cats', 0.786913275718689), ('animals', 0.7566978931427002), ('pets', 0.717490017414093), ('cat', 0.7163873314857483)]\n",
            "Nearest to 'bank': [('banks', 0.8057132959365845), ('banking', 0.7530707120895386), ('credit', 0.7037603259086609), ('investment', 0.6939943432807922), ('financial', 0.6777413487434387)]\n",
            "Nearest to 'money': [('funds', 0.8508071303367615), ('cash', 0.848483681678772), ('fund', 0.7594833374023438), ('paying', 0.7415367364883423), ('pay', 0.740767240524292)]\n",
            "Nearest to 'football': [('soccer', 0.8732221722602844), ('basketball', 0.8555637001991272), ('league', 0.815336287021637), ('rugby', 0.8007532954216003), ('hockey', 0.7833694815635681)]\n"
          ]
        }
      ],
      "source": [
        "\n",
        "import gensim.downloader as api\n",
        "from sklearn.decomposition import PCA\n",
        "import numpy as np\n",
        "import matplotlib.pyplot as plt\n",
        "\n",
        "glove_pre = api.load(\"glove-wiki-gigaword-100\")\n",
        "\n",
        "#nearest neighbors\n",
        "passrobe_words = [\"king\", \"queen\", \"paris\", \"france\", \"italy\", \"rome\", \"football\", \"movie\", \"cat\", \"dog\"]\n",
        "for w in probe_words:\n",
        "  if w in glove_pre.key_to_index:\n",
        "    print(f\"Nearest to '{w}':\", glove_pre.most_similar(w, topn=5))\n",
        "\n",
        "    # analogies\n",
        "  def analogy(pos, neg, topn=5):\n",
        "    return glove_pre.most_similar(positive=pos, negative=neg, topn=topn)\n",
        "\n",
        "    print(\"\\nAnalogy: king - man + woman  ->\", analogy(['king','woman'], ['man'], 5))\n",
        "    print(\"Analogy: paris - france + italy ->\", analogy(['paris','italy'], ['france'], 5))\n",
        "\n",
        "    # PCA visualization\n",
        "    subset = [\"king\",\"queen\",\"man\",\"woman\",\"paris\",\"france\",\"rome\",\"italy\",\"cat\",\"dog\",\"pet\"]\n",
        "    have = [w for w in subset if w in glove_pre.key_to_index]\n",
        "    vecs = np.array([glove_pre[w] for w in have])\n",
        "    xy = PCA(n_components=2, random_state=42).fit_transform(vecs)\n",
        "\n",
        "\n",
        "\n"
      ]
    },
    {
      "cell_type": "markdown",
      "id": "71aa5e44",
      "metadata": {
        "id": "71aa5e44"
      },
      "source": [
        "# 7. ELMo\n",
        "Core idea: Contextual embeddings from a deep bi-LSTM language model; token vectors depend on full sentence.\n",
        "\n",
        "Why it matters: Solved polysemy at the representation level (different vectors for “bank” in river vs finance).\n",
        "\n",
        "Strengths: big gains across tasks, character-aware\n",
        "\n",
        "Limits: less scalable than attention for long sequences.\n",
        "\n",
        "Use cases: Token-level tasks (NER, QA, coref) when transformers aren’t available\n"
      ]
    },
    {
      "cell_type": "code",
      "execution_count": null,
      "id": "9d928fd7",
      "metadata": {
        "colab": {
          "base_uri": "https://localhost:8080/"
        },
        "id": "9d928fd7",
        "outputId": "ccb0f2c4-5b51-47ad-e535-f1f92ceeb0a7"
      },
      "outputs": [
        {
          "output_type": "stream",
          "name": "stdout",
          "text": [
            "allennlp mssing\n"
          ]
        }
      ],
      "source": [
        "sent1 = \"He went to the bank to deposit money .\"\n",
        "sent2 = \"The bank of the river was steep and rocky .\"\n",
        "\n",
        "try:\n",
        "    from allennlp.commands.elmo import ElmoEmbedder\n",
        "    elmo = ElmoEmbedder()\n",
        "\n",
        "    # Returns an array [layers, timesteps, dim]\n",
        "    e1 = elmo.embed_sentence(sent1.split())\n",
        "    e2 = elmo.embed_sentence(sent2.split())\n",
        "\n",
        "    # We'll use the top layer ([-1]) for comparison, average across layers if desired\n",
        "    # Find index of 'bank' in each sentence\n",
        "    idx1 = sent1.split().index(\"bank\")\n",
        "    idx2 = sent2.split().index(\"bank\")\n",
        "\n",
        "    v1 = e1[-1][idx1].reshape(1, -1)\n",
        "    v2 = e2[-1][idx2].reshape(1, -1)\n",
        "\n",
        "    # cosine between the two 'bank' vectors\n",
        "    cos_bank_bank = float(cosine_similarity(v1, v2)[0,0])\n",
        "    print(\"Cosine(bank_money_context, bank_river_context) =\", round(cos_bank_bank, 3))\n",
        "\n",
        "    # Visualize the two vectors relative to their sentence words via PCA\n",
        "    words1 = sent1.split()\n",
        "    words2 = sent2.split()\n",
        "    all_vectors = [e1[-1][i] for i in range(len(words1))] + [e2[-1][i] for i in range(len(words2))]\n",
        "    xy = PCA(n_components=2, random_state=42).fit_transform(np.array(all_vectors))\n",
        "\n",
        "    # Split back for plotting\n",
        "    xy1 = xy[:len(words1)]\n",
        "    xy2 = xy[len(words1):]\n",
        "\n",
        "    plt.figure()\n",
        "    plt.scatter(xy1[:,0], xy1[:,1])\n",
        "    for (x,y), lab in zip(xy1, words1):\n",
        "        plt.text(x, y, lab)\n",
        "    plt.title(\"ELMo PCA — Sentence 1\")\n",
        "    plt.xlabel(\"PC1\"); plt.ylabel(\"PC2\")\n",
        "    plt.show()\n",
        "\n",
        "    plt.figure()\n",
        "    plt.scatter(xy2[:,0], xy2[:,1])\n",
        "    for (x,y), lab in zip(xy2, words2):\n",
        "        plt.text(x, y, lab)\n",
        "    plt.title(\"ELMo PCA — Sentence 2\")\n",
        "    plt.xlabel(\"PC1\"); plt.ylabel(\"PC2\")\n",
        "    plt.show()\n",
        "\n",
        "except ImportError:\n",
        "    print(\"allennlp mssing\")\n",
        "except Exception as e:\n",
        "    print(f\"An error occurred: {e}\")"
      ]
    },
    {
      "cell_type": "markdown",
      "id": "1f26922d",
      "metadata": {
        "id": "1f26922d"
      },
      "source": [
        "\n",
        "## summary\n",
        "\n",
        "- **BoW / TF–IDF / N-grams:** surface-level counts (simple & strong baselines).\n",
        "- **LSA:** linear algebra uncovers latent semantics from counts.\n",
        "- **Word2Vec / GloVe:** dense, learned **static** embeddings with meaningful geometry.\n",
        "- **ELMo / BERT:** **contextual** embeddings — the same word can mean different things, and the vector reflects that.\n",
        "\n",
        "**Next steps:**\n",
        "- Swap in your corpus (or part of it) and check for  patterns.\n",
        "- Try **FastText**\n"
      ]
    }
  ],
  "metadata": {
    "colab": {
      "provenance": [],
      "gpuType": "T4"
    },
    "language_info": {
      "name": "python"
    },
    "kernelspec": {
      "name": "python3",
      "display_name": "Python 3"
    },
    "accelerator": "GPU"
  },
  "nbformat": 4,
  "nbformat_minor": 5
}